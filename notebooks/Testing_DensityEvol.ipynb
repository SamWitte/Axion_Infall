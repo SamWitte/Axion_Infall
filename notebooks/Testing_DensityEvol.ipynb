{
 "cells": [
  {
   "cell_type": "code",
   "execution_count": 1,
   "metadata": {},
   "outputs": [],
   "source": [
    "import numpy as np\n",
    "import matplotlib.pyplot as plt\n",
    "import matplotlib as mpl\n",
    "import matplotlib.cm as cm\n",
    "from mpl_toolkits import mplot3d\n",
    "from matplotlib import ticker\n",
    "\n",
    "import sys\n",
    "sys.path.insert(0, '../src/')\n",
    "from AMC_Density_Evolution import *\n",
    "\n",
    "from matplotlib import rc\n",
    "rc('text', usetex=True)\n",
    "mpl.rcParams['axes.formatter.use_mathtext']=True\n",
    "mpl.rcParams['figure.dpi']=90\n",
    "wid=1.3\n",
    "mpl.rcParams['axes.linewidth'] = wid #set the value globally\n",
    "mpl.rcParams['font.family'] = 'sans-serif'\n",
    "mpl.rcParams['font.sans-serif'] = ['Times']\n",
    "\n",
    "mpl.rcParams['font.weight'] = 2.0"
   ]
  },
  {
   "cell_type": "code",
   "execution_count": 10,
   "metadata": {},
   "outputs": [
    {
     "name": "stdout",
     "output_type": "stream",
     "text": [
      "0.9225846855623822 1.005046403183182\n"
     ]
    }
   ],
   "source": [
    "fNme = \"../src/results/Minicluster__MassAx_1.0e-5_ThetaM_0.2_rotPulsar_1.0_B0_1.0e14_rNS_10_MassNS_1_NS_Mag_0.00029_NS_Theta_2.746_Mmc_1.0e-12_Rmc_1.0e9___fixed_time_0.0_odeErr_1.0e-5_vxNS_0_vyNS_0_vzNS_0_.npz\"\n",
    "\n",
    "fileNew, den = eval_density_3d(fNme, 1e8, 0)"
   ]
  },
  {
   "cell_type": "code",
   "execution_count": 11,
   "metadata": {},
   "outputs": [
    {
     "data": {
      "text/plain": [
       "array([66.5818401])"
      ]
     },
     "execution_count": 11,
     "metadata": {},
     "output_type": "execute_result"
    }
   ],
   "source": [
    "AMC_DensityEval(0, 1e-12, 0.000229, np.array([0.01]), 7.016)"
   ]
  },
  {
   "cell_type": "code",
   "execution_count": 12,
   "metadata": {},
   "outputs": [
    {
     "data": {
      "text/plain": [
       "79.81808895269613"
      ]
     },
     "execution_count": 12,
     "metadata": {},
     "output_type": "execute_result"
    }
   ],
   "source": [
    "np.max(den)"
   ]
  },
  {
   "cell_type": "code",
   "execution_count": null,
   "metadata": {},
   "outputs": [],
   "source": []
  },
  {
   "cell_type": "code",
   "execution_count": null,
   "metadata": {},
   "outputs": [],
   "source": []
  },
  {
   "cell_type": "code",
   "execution_count": null,
   "metadata": {},
   "outputs": [],
   "source": []
  }
 ],
 "metadata": {
  "kernelspec": {
   "display_name": "Python 3",
   "language": "python",
   "name": "python3"
  },
  "language_info": {
   "codemirror_mode": {
    "name": "ipython",
    "version": 3
   },
   "file_extension": ".py",
   "mimetype": "text/x-python",
   "name": "python",
   "nbconvert_exporter": "python",
   "pygments_lexer": "ipython3",
   "version": "3.5.5"
  }
 },
 "nbformat": 4,
 "nbformat_minor": 4
}
